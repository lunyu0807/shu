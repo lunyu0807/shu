{
 "cells": [
  {
   "cell_type": "code",
   "execution_count": 10,
   "metadata": {},
   "outputs": [
    {
     "name": "stdout",
     "output_type": "stream",
     "text": [
      "邊數:5\n",
      "邊長:6.5\n",
      "72.69017017488385\n"
     ]
    }
   ],
   "source": [
    "#4-1\n",
    "import math\n",
    "n=eval(input(\"邊數:\"))\n",
    "s=eval(input(\"邊長:\"))\n",
    "area=(n*s**2)/(4*(math.tan(math.pi/n)))\n",
    "print(area)"
   ]
  },
  {
   "cell_type": "code",
   "execution_count": 12,
   "metadata": {},
   "outputs": [
    {
     "name": "stdout",
     "output_type": "stream",
     "text": [
      "X1:2\n",
      "Y1:1\n",
      "X2:5.5\n",
      "Y2:8\n",
      "Distance: 7.826237921249264\n"
     ]
    }
   ],
   "source": [
    "#4-2\n",
    "import math\n",
    "a=eval(input(\"X1:\"))\n",
    "b=eval(input(\"Y1:\"))\n",
    "c=eval(input(\"X2:\"))\n",
    "d=eval(input(\"Y2:\"))\n",
    "x=(a-c)**2\n",
    "y=(b-d)**2\n",
    "z=math.sqrt(x+y)\n",
    "print(\"Distance:\",z)"
   ]
  },
  {
   "cell_type": "code",
   "execution_count": 19,
   "metadata": {},
   "outputs": [
    {
     "name": "stdout",
     "output_type": "stream",
     "text": [
      "a:4\n",
      "b:4\n",
      "c:5\n",
      "面積： 7.806247497997997\n"
     ]
    }
   ],
   "source": [
    "#4-3\n",
    "import math\n",
    "a=eval(input(\"a:\"))\n",
    "b=eval(input(\"b:\"))\n",
    "c=eval(input(\"c:\"))\n",
    "s=(a+b+c)/2\n",
    "x=math.sqrt(s*(s-a)*(s-b)*(s-c))\n",
    "print(\"面積：\",x)"
   ]
  },
  {
   "cell_type": "code",
   "execution_count": 22,
   "metadata": {},
   "outputs": [
    {
     "name": "stdout",
     "output_type": "stream",
     "text": [
      "a:1\n",
      "b:2\n",
      "c:3\n",
      "-0.953125 -1.046875\n"
     ]
    }
   ],
   "source": [
    "#4-4\n",
    "a=eval(input(\"a:\"))\n",
    "b=eval(input(\"b:\"))\n",
    "c=eval(input(\"c:\"))\n",
    "D=b**-4*a*c\n",
    "x=((-1)*b+D**1/2)/(2*a)\n",
    "y=((-1)*b-D**1/2)/(2*a)\n",
    "print(x,y)"
   ]
  },
  {
   "cell_type": "code",
   "execution_count": null,
   "metadata": {},
   "outputs": [],
   "source": []
  },
  {
   "cell_type": "code",
   "execution_count": null,
   "metadata": {},
   "outputs": [],
   "source": []
  },
  {
   "cell_type": "code",
   "execution_count": null,
   "metadata": {},
   "outputs": [],
   "source": []
  },
  {
   "cell_type": "code",
   "execution_count": null,
   "metadata": {},
   "outputs": [],
   "source": []
  },
  {
   "cell_type": "code",
   "execution_count": null,
   "metadata": {},
   "outputs": [],
   "source": []
  },
  {
   "cell_type": "code",
   "execution_count": null,
   "metadata": {},
   "outputs": [],
   "source": []
  },
  {
   "cell_type": "code",
   "execution_count": null,
   "metadata": {},
   "outputs": [],
   "source": []
  }
 ],
 "metadata": {
  "kernelspec": {
   "display_name": "Python 3",
   "language": "python",
   "name": "python3"
  },
  "language_info": {
   "codemirror_mode": {
    "name": "ipython",
    "version": 3
   },
   "file_extension": ".py",
   "mimetype": "text/x-python",
   "name": "python",
   "nbconvert_exporter": "python",
   "pygments_lexer": "ipython3",
   "version": "3.8.3"
  }
 },
 "nbformat": 4,
 "nbformat_minor": 4
}
