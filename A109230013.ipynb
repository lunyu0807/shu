{
 "cells": [
  {
   "cell_type": "code",
   "execution_count": 3,
   "metadata": {},
   "outputs": [
    {
     "name": "stdout",
     "output_type": "stream",
     "text": [
      "enter height:23.5\n",
      "enter weight:19\n",
      "height: 23.5\n",
      "weight: 19\n",
      "perimeter: 85.0\n",
      "area: 446.5\n"
     ]
    }
   ],
   "source": [
    "#3-1\n",
    "a=eval(input(\"enter height:\"))\n",
    "b=eval(input(\"enter weight:\"))\n",
    "c=2*(a+b)\n",
    "d=a*b\n",
    "print(\"height:\",a)\n",
    "print(\"weight:\",b)\n",
    "print(\"perimeter:\",c)\n",
    "print(\"area:\",d)"
   ]
  },
  {
   "cell_type": "code",
   "execution_count": 9,
   "metadata": {},
   "outputs": [
    {
     "name": "stdout",
     "output_type": "stream",
     "text": [
      "enter s:5\n",
      "s= 5\n",
      "height= 4.330127018922193\n",
      "area= 10.825317547305483\n"
     ]
    }
   ],
   "source": [
    "a=eval(input(\"enter s:\"))\n",
    "b=((3**0.5)/2)*a\n",
    "c=((3**0.5)/4)*(a**2)\n",
    "print(\"s=\",a)\n",
    "print(\"height=\",b)\n",
    "print(\"area=\",c)"
   ]
  },
  {
   "cell_type": "code",
   "execution_count": null,
   "metadata": {},
   "outputs": [],
   "source": []
  },
  {
   "cell_type": "code",
   "execution_count": null,
   "metadata": {},
   "outputs": [],
   "source": []
  },
  {
   "cell_type": "code",
   "execution_count": null,
   "metadata": {},
   "outputs": [],
   "source": []
  },
  {
   "cell_type": "code",
   "execution_count": null,
   "metadata": {},
   "outputs": [],
   "source": []
  },
  {
   "cell_type": "code",
   "execution_count": null,
   "metadata": {},
   "outputs": [],
   "source": []
  },
  {
   "cell_type": "code",
   "execution_count": null,
   "metadata": {},
   "outputs": [],
   "source": []
  },
  {
   "cell_type": "code",
   "execution_count": null,
   "metadata": {},
   "outputs": [],
   "source": []
  },
  {
   "cell_type": "code",
   "execution_count": null,
   "metadata": {},
   "outputs": [],
   "source": []
  }
 ],
 "metadata": {
  "kernelspec": {
   "display_name": "Python 3",
   "language": "python",
   "name": "python3"
  },
  "language_info": {
   "codemirror_mode": {
    "name": "ipython",
    "version": 3
   },
   "file_extension": ".py",
   "mimetype": "text/x-python",
   "name": "python",
   "nbconvert_exporter": "python",
   "pygments_lexer": "ipython3",
   "version": "3.7.3"
  }
 },
 "nbformat": 4,
 "nbformat_minor": 2
}
