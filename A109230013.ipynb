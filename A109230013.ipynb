{
 "cells": [
  {
   "cell_type": "code",
   "execution_count": 2,
   "metadata": {},
   "outputs": [
    {
     "name": "stdout",
     "output_type": "stream",
     "text": [
      "enter height:23.5\n",
      "enter weight:19\n",
      "height: 23.5\n",
      "weight: 19\n",
      "perimeter: 85.0\n",
      "area: 446.5\n"
     ]
    }
   ],
   "source": [
    "#3-1\n",
    "a=eval(input(\"enter height:\"))\n",
    "b=eval(input(\"enter weight:\"))\n",
    "c=2*(a+b)\n",
    "d=a*b\n",
    "print(\"height:\",a)\n",
    "print(\"weight:\",b)\n",
    "print(\"perimeter:\",c)\n",
    "print(\"area:\",d)"
   ]
  },
  {
   "cell_type": "code",
   "execution_count": 3,
   "metadata": {},
   "outputs": [
    {
     "name": "stdout",
     "output_type": "stream",
     "text": [
      "enter s:5\n",
      "s= 5\n",
      "height= 4.330127018922193\n",
      "area= 10.825317547305483\n"
     ]
    }
   ],
   "source": [
    "#3-2\n",
    "a=eval(input(\"enter s:\"))\n",
    "b=((3**0.5)/2)*a\n",
    "c=((3**0.5)/4)*(a**2)\n",
    "print(\"s=\",a)\n",
    "print(\"height=\",b)\n",
    "print(\"area=\",c)"
   ]
  },
  {
   "cell_type": "code",
   "execution_count": 4,
   "metadata": {},
   "outputs": [
    {
     "name": "stdout",
     "output_type": "stream",
     "text": [
      "enter min:10\n",
      "enter sec:25\n",
      "enter km:3\n",
      "speed: 10.8 mile/hour\n"
     ]
    }
   ],
   "source": [
    "x=eval(input(\"enter min:\"))\n",
    "y=eval(input(\"enter sec:\"))\n",
    "z=eval(input(\"enter km:\"))\n",
    "s=((x/60)+(y/3600))\n",
    "u=z/1.6\n",
    "speed=u/s\n",
    "print(\"speed:\",speed,\"mile/hour\")"
   ]
  },
  {
   "cell_type": "code",
   "execution_count": 6,
   "metadata": {},
   "outputs": [
    {
     "name": "stdout",
     "output_type": "stream",
     "text": [
      "enter mile:1\n",
      "1.6 km\n"
     ]
    }
   ],
   "source": [
    "x=eval(input(\"enter mile:\"))\n",
    "a=x*1.6\n",
    "print(a,\"km\")"
   ]
  },
  {
   "cell_type": "code",
   "execution_count": 7,
   "metadata": {},
   "outputs": [
    {
     "name": "stdout",
     "output_type": "stream",
     "text": [
      "enter F:40\n",
      "40 f= 4.444444444444445 c\n"
     ]
    }
   ],
   "source": [
    "f=eval(input(\"enter F:\"))\n",
    "c=(f-32)*(5/9)\n",
    "print(f,\"f=\",c,\"c\")"
   ]
  },
  {
   "cell_type": "code",
   "execution_count": 8,
   "metadata": {},
   "outputs": [
    {
     "name": "stdout",
     "output_type": "stream",
     "text": [
      "enter a:1\n",
      "enter b:2\n",
      "enter c:3\n",
      "總和: 6\n",
      "平均數: 2.0\n"
     ]
    }
   ],
   "source": [
    "a=eval(input(\"enter a:\"))\n",
    "b=eval(input(\"enter b:\"))\n",
    "c=eval(input(\"enter c:\"))\n",
    "x=a+b+c\n",
    "y=x/3\n",
    "print(\"總和:\",x)\n",
    "print(\"平均數:\",y)"
   ]
  },
  {
   "cell_type": "code",
   "execution_count": 9,
   "metadata": {},
   "outputs": [
    {
     "name": "stdout",
     "output_type": "stream",
     "text": [
      "請輸入姓名:康\n",
      "請輸入學號:109\n",
      "請輸入地址:台北\n",
      "姓名: 康\n",
      "學號: 109\n",
      "地址: 台北\n"
     ]
    }
   ],
   "source": [
    "a=input(\"請輸入姓名:\")\n",
    "b=input(\"請輸入學號:\")\n",
    "c=input(\"請輸入地址:\")\n",
    "print(\"姓名:\",a)\n",
    "print(\"學號:\",b)\n",
    "print(\"地址:\",c)"
   ]
  },
  {
   "cell_type": "code",
   "execution_count": 10,
   "metadata": {},
   "outputs": [
    {
     "name": "stdout",
     "output_type": "stream",
     "text": [
      "請輸入半徑:5\n",
      "圓面積: 78.5\n",
      "圓周長: 31.400000000000002\n"
     ]
    }
   ],
   "source": [
    "x=eval(input(\"請輸入半徑:\"))\n",
    "s=x*x*3.14\n",
    "a=x*2*3.14\n",
    "print(\"圓面積:\",s)\n",
    "print(\"圓周長:\",a)"
   ]
  },
  {
   "cell_type": "code",
   "execution_count": 12,
   "metadata": {},
   "outputs": [
    {
     "name": "stdout",
     "output_type": "stream",
     "text": [
      "請輸入矩形長:2\n",
      "請輸入矩形寬:3\n",
      "矩形長: 2\n",
      "矩形寬: 3\n",
      "周長: 10\n",
      "面積: 6\n"
     ]
    }
   ],
   "source": [
    "a=eval(input(\"請輸入矩形長:\"))\n",
    "b=eval(input(\"請輸入矩形寬:\"))\n",
    "c=2*(a+b)\n",
    "d=a*b\n",
    "print(\"矩形長:\",a)\n",
    "print(\"矩形寬:\",b)\n",
    "print(\"周長:\",c)\n",
    "print(\"面積:\",d)"
   ]
  },
  {
   "cell_type": "code",
   "execution_count": 13,
   "metadata": {},
   "outputs": [
    {
     "name": "stdout",
     "output_type": "stream",
     "text": [
      "enter x:1\n",
      "enter y:1\n",
      "407.4\n"
     ]
    }
   ],
   "source": [
    "x=eval(input(\"enter x:\"))\n",
    "y=eval(input(\"enter y:\"))\n",
    "a=(3+4*x)/5\n",
    "b=(10*(y-5)*(x+y+5))/x\n",
    "c=9*((4/x)+((9+x)/y))\n",
    "s=a-b+c\n",
    "print(s)"
   ]
  },
  {
   "cell_type": "code",
   "execution_count": null,
   "metadata": {},
   "outputs": [],
   "source": []
  },
  {
   "cell_type": "code",
   "execution_count": null,
   "metadata": {},
   "outputs": [],
   "source": []
  },
  {
   "cell_type": "code",
   "execution_count": null,
   "metadata": {},
   "outputs": [],
   "source": []
  },
  {
   "cell_type": "code",
   "execution_count": null,
   "metadata": {},
   "outputs": [],
   "source": []
  },
  {
   "cell_type": "code",
   "execution_count": null,
   "metadata": {},
   "outputs": [],
   "source": []
  },
  {
   "cell_type": "code",
   "execution_count": null,
   "metadata": {},
   "outputs": [],
   "source": []
  },
  {
   "cell_type": "code",
   "execution_count": null,
   "metadata": {},
   "outputs": [],
   "source": []
  },
  {
   "cell_type": "code",
   "execution_count": null,
   "metadata": {},
   "outputs": [],
   "source": []
  },
  {
   "cell_type": "code",
   "execution_count": null,
   "metadata": {},
   "outputs": [],
   "source": []
  },
  {
   "cell_type": "code",
   "execution_count": null,
   "metadata": {},
   "outputs": [],
   "source": []
  },
  {
   "cell_type": "code",
   "execution_count": null,
   "metadata": {},
   "outputs": [],
   "source": []
  },
  {
   "cell_type": "code",
   "execution_count": null,
   "metadata": {},
   "outputs": [],
   "source": []
  },
  {
   "cell_type": "code",
   "execution_count": null,
   "metadata": {},
   "outputs": [],
   "source": []
  },
  {
   "cell_type": "code",
   "execution_count": null,
   "metadata": {},
   "outputs": [],
   "source": []
  },
  {
   "cell_type": "code",
   "execution_count": null,
   "metadata": {},
   "outputs": [],
   "source": []
  },
  {
   "cell_type": "code",
   "execution_count": null,
   "metadata": {},
   "outputs": [],
   "source": []
  },
  {
   "cell_type": "code",
   "execution_count": null,
   "metadata": {},
   "outputs": [],
   "source": []
  },
  {
   "cell_type": "code",
   "execution_count": null,
   "metadata": {},
   "outputs": [],
   "source": []
  },
  {
   "cell_type": "code",
   "execution_count": null,
   "metadata": {},
   "outputs": [],
   "source": []
  },
  {
   "cell_type": "code",
   "execution_count": null,
   "metadata": {},
   "outputs": [],
   "source": []
  },
  {
   "cell_type": "code",
   "execution_count": null,
   "metadata": {},
   "outputs": [],
   "source": []
  },
  {
   "cell_type": "code",
   "execution_count": null,
   "metadata": {},
   "outputs": [],
   "source": []
  },
  {
   "cell_type": "code",
   "execution_count": null,
   "metadata": {},
   "outputs": [],
   "source": []
  },
  {
   "cell_type": "code",
   "execution_count": null,
   "metadata": {},
   "outputs": [],
   "source": []
  },
  {
   "cell_type": "code",
   "execution_count": null,
   "metadata": {},
   "outputs": [],
   "source": []
  },
  {
   "cell_type": "code",
   "execution_count": null,
   "metadata": {},
   "outputs": [],
   "source": []
  },
  {
   "cell_type": "code",
   "execution_count": null,
   "metadata": {},
   "outputs": [],
   "source": []
  },
  {
   "cell_type": "code",
   "execution_count": null,
   "metadata": {},
   "outputs": [],
   "source": []
  },
  {
   "cell_type": "code",
   "execution_count": null,
   "metadata": {},
   "outputs": [],
   "source": []
  },
  {
   "cell_type": "code",
   "execution_count": null,
   "metadata": {},
   "outputs": [],
   "source": []
  }
 ],
 "metadata": {
  "kernelspec": {
   "display_name": "Python 3",
   "language": "python",
   "name": "python3"
  },
  "language_info": {
   "codemirror_mode": {
    "name": "ipython",
    "version": 3
   },
   "file_extension": ".py",
   "mimetype": "text/x-python",
   "name": "python",
   "nbconvert_exporter": "python",
   "pygments_lexer": "ipython3",
   "version": "3.7.3"
  }
 },
 "nbformat": 4,
 "nbformat_minor": 2
}
